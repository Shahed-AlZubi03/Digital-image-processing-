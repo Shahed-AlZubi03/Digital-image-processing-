{
 "cells": [
  {
   "cell_type": "markdown",
   "id": "3ee33c3c-e674-4b33-961b-5f199258a82a",
   "metadata": {},
   "source": [
    "Assignment 1:"
   ]
  },
  {
   "cell_type": "markdown",
   "id": "110e931d-47d0-4358-9b85-9a4e12993458",
   "metadata": {},
   "source": [
    "Read and display the images:"
   ]
  },
  {
   "cell_type": "code",
   "execution_count": 1,
   "id": "578f4491-1874-4f50-8b6d-771518650652",
   "metadata": {},
   "outputs": [],
   "source": [
    "from PIL import Image, ImageEnhance\n",
    "import numpy as np"
   ]
  },
  {
   "cell_type": "code",
   "execution_count": 5,
   "id": "2a3cace9-fd9f-4ccf-a315-3be2ca99238c",
   "metadata": {},
   "outputs": [],
   "source": [
    "lena_img = Image.open(r\"LenaGray.jpg\")\n",
    "peppers_img = Image.open(r\"PeppersGrey.jpg\")"
   ]
  },
  {
   "cell_type": "code",
   "execution_count": 6,
   "id": "5c9daf3f-ebb5-49b3-828a-1b4c4372fb47",
   "metadata": {},
   "outputs": [],
   "source": [
    "lena_img.show()\n",
    "peppers_img.show()"
   ]
  },
  {
   "cell_type": "markdown",
   "id": "fce6c497-338d-4a71-a147-0a08c848bf15",
   "metadata": {},
   "source": [
    "Image j:"
   ]
  },
  {
   "cell_type": "code",
   "execution_count": 7,
   "id": "df4d8a08-5fdc-4375-802f-05585c083562",
   "metadata": {},
   "outputs": [],
   "source": [
    "image_J = Image.new('L' , (256,256))"
   ]
  },
  {
   "cell_type": "code",
   "execution_count": 8,
   "id": "5b855d39-f7ce-48e5-8a24-d69b382da9fb",
   "metadata": {},
   "outputs": [],
   "source": [
    "for y in range(256):\n",
    "    for x in range(256):\n",
    "        if y <= 128:\n",
    "            image_J.putpixel((x,y),lena_img.getpixel((x,y)))\n",
    "        else:\n",
    "            image_J.putpixel((x,y),peppers_img.getpixel((x,y)))"
   ]
  },
  {
   "cell_type": "code",
   "execution_count": 9,
   "id": "86d2f077-69ac-4417-b7e1-535d7de0cae5",
   "metadata": {},
   "outputs": [],
   "source": [
    "image_J.show()"
   ]
  },
  {
   "cell_type": "markdown",
   "id": "7dbbfaef-757b-4c55-845d-ecfc760a88ba",
   "metadata": {},
   "source": [
    "Image k:"
   ]
  },
  {
   "cell_type": "code",
   "execution_count": 10,
   "id": "e5164bef-6355-4eca-a62a-324b5fe9ee25",
   "metadata": {},
   "outputs": [],
   "source": [
    "image_K = Image.new('L' , (256,256))"
   ]
  },
  {
   "cell_type": "code",
   "execution_count": 11,
   "id": "71598f02-252f-43e8-b2a1-9e3328904773",
   "metadata": {},
   "outputs": [],
   "source": [
    "upper_half=image_J.crop((0,0,256,128))\n",
    "lower_half=image_J.crop((0,128,256,256))"
   ]
  },
  {
   "cell_type": "code",
   "execution_count": 12,
   "id": "66c24d16-fc95-41c5-99a7-5f2c34ff303b",
   "metadata": {},
   "outputs": [],
   "source": [
    "image_K.paste(lower_half,(0,0))\n",
    "image_K.paste(upper_half,(0,128))"
   ]
  },
  {
   "cell_type": "code",
   "execution_count": 13,
   "id": "dc8e70d9-d166-4828-8b20-2fbf9d775462",
   "metadata": {},
   "outputs": [],
   "source": [
    "image_K.show()"
   ]
  },
  {
   "cell_type": "markdown",
   "id": "8d3f4b51-6c49-4f71-97f9-63dab373277b",
   "metadata": {},
   "source": [
    "Assignment 2:"
   ]
  },
  {
   "cell_type": "markdown",
   "id": "185bd961-126e-4d3f-9c8b-a8d28279cbed",
   "metadata": {},
   "source": [
    "Lena image - Negative filter:"
   ]
  },
  {
   "cell_type": "code",
   "execution_count": 14,
   "id": "99a5dd52-132f-497b-962e-2ce326d0e8c4",
   "metadata": {},
   "outputs": [],
   "source": [
    "lena_noise = Image.open(r\"LenaGrayNoisy.jpg\")\n",
    "peppers_noise = Image.open(r\"PeppersGreyNoisy.jpg\")"
   ]
  },
  {
   "cell_type": "code",
   "execution_count": 15,
   "id": "4698a3f1-c3c0-483c-b053-cb26d13884d3",
   "metadata": {},
   "outputs": [],
   "source": [
    "new_lena = Image.new('L',(256,256))\n",
    "new_peppers = Image.new('L',(256,256))"
   ]
  },
  {
   "cell_type": "code",
   "execution_count": 16,
   "id": "3086658e-8635-4263-bd1f-c9db71eb11cf",
   "metadata": {},
   "outputs": [],
   "source": [
    "for y in range(256):\n",
    "    for x in range(256):\n",
    "        new_lena.putpixel((x,y),255-lena_noise.getpixel((x,y)))"
   ]
  },
  {
   "cell_type": "code",
   "execution_count": 17,
   "id": "dea7ebf6-1875-4d37-a716-5e8820d3497b",
   "metadata": {},
   "outputs": [],
   "source": [
    "new_lena.show()\n",
    "new_lena.save('LenaGrayNegative.jpg')"
   ]
  },
  {
   "cell_type": "markdown",
   "id": "6145fc16-ec91-46b9-ba11-c748bd183327",
   "metadata": {},
   "source": [
    "Lena image - Median filter:"
   ]
  },
  {
   "cell_type": "code",
   "execution_count": 18,
   "id": "1ab6c07d-5df1-4d01-a51d-b56dd47022dd",
   "metadata": {},
   "outputs": [],
   "source": [
    "def window3 (x,y):\n",
    "    if x==0 or y==0 or x==256 or y==256:\n",
    "        return 0\n",
    "    return [(x-1, y-1),(x, y-1),(x+1, y-1),(x-1, y),(x, y),(x+1, y),(x-1, y+1),(x, y+1),(x+1, y+1)]"
   ]
  },
  {
   "cell_type": "code",
   "execution_count": 19,
   "id": "62fb7e80-cbf2-4c7d-bebb-597f3bdac665",
   "metadata": {},
   "outputs": [],
   "source": [
    "for y in range(256):\n",
    "    for x in range(256):\n",
    "        try:\n",
    "            window_val= [lena_noise.getpixel(i) for i in window3(x,y)]\n",
    "            new_lena.putpixel((x,y) ,int(np.median(window_val)))\n",
    "        except:\n",
    "            new_lena.putpixel((x,y),0)"
   ]
  },
  {
   "cell_type": "code",
   "execution_count": 20,
   "id": "b9bef43b-4ec2-48a5-8ce3-737d9fdbb164",
   "metadata": {},
   "outputs": [],
   "source": [
    "new_lena.show()\n",
    "new_lena.save('LenaGrayMedian.jpg')"
   ]
  },
  {
   "cell_type": "markdown",
   "id": "7c00809a-7cdb-44b0-adf7-4fc7baec4326",
   "metadata": {},
   "source": [
    "Pepper image - Negative filter:"
   ]
  },
  {
   "cell_type": "code",
   "execution_count": 21,
   "id": "02050cef-7a2d-4bae-933d-efdfe20fac0b",
   "metadata": {},
   "outputs": [],
   "source": [
    "for y in range(256):\n",
    "    for x in range(256):\n",
    "         new_peppers.putpixel((x,y),255-peppers_noise.getpixel((x,y)))"
   ]
  },
  {
   "cell_type": "code",
   "execution_count": 22,
   "id": "6c4ff4f2-761c-4c24-90ba-f62bb8a74129",
   "metadata": {},
   "outputs": [],
   "source": [
    "new_peppers.show()\n",
    "new_peppers.save('PepperNegative.jpg')"
   ]
  },
  {
   "cell_type": "markdown",
   "id": "f65454b9-d384-4676-9255-7e361daf77d6",
   "metadata": {},
   "source": [
    "Pepper image - Median filter:"
   ]
  },
  {
   "cell_type": "code",
   "execution_count": 23,
   "id": "96681d5f-1e0d-4851-849e-34c75bbb4449",
   "metadata": {},
   "outputs": [],
   "source": [
    "for y in range(256):\n",
    "    for x in range(256):\n",
    "        try:\n",
    "            window_val= [peppers_noise.getpixel(i) for i in window3(x,y)]\n",
    "            new_peppers.putpixel((x,y) ,int(np.median(window_val)))\n",
    "        except:\n",
    "            new_peppers.putpixel((x,y),0)"
   ]
  },
  {
   "cell_type": "code",
   "execution_count": 24,
   "id": "05cd5d6b-86be-4bc4-95a0-1f782e696394",
   "metadata": {},
   "outputs": [],
   "source": [
    "new_peppers.show()\n",
    "new_peppers.save('PepperMedian.jpg')"
   ]
  },
  {
   "cell_type": "markdown",
   "id": "5673b4bb-9f2b-4b80-909e-3c0438151d1d",
   "metadata": {},
   "source": [
    "Extra Examples:"
   ]
  },
  {
   "cell_type": "code",
   "execution_count": 32,
   "id": "d0c19a96-63ce-4126-af75-b6bfd760ff47",
   "metadata": {},
   "outputs": [],
   "source": [
    "galaxy = Image.open(\"galaxy.jpg\") \n",
    "\n",
    "# Creating object of Color class \n",
    "im_en = ImageEnhance.Color(galaxy) \n",
    "\n",
    "# showing resultant image \n",
    "black_galaxy=im_en.enhance(0)\n",
    "#black_galaxy.show() \n",
    "\n",
    "\n",
    "color_img1 = Image.new( mode = \"RGB\", size = (564, 701) )\n",
    "\n",
    "for y in range (701):\n",
    "    for x in range(564):\n",
    "        if x>=193 and x<= 398:\n",
    "            scale_value=black_galaxy.getpixel((x,y))\n",
    "            color_img1.putpixel((x,y), scale_value)\n",
    "        else:\n",
    "            scale_value=galaxy.getpixel((x,y))\n",
    "            color_img1.putpixel((x,y), scale_value)\n",
    "        \n",
    "color_img1.show()"
   ]
  },
  {
   "cell_type": "code",
   "execution_count": 33,
   "id": "e8204ee0-96e0-4c71-9552-447c26661ca4",
   "metadata": {},
   "outputs": [],
   "source": [
    "color_img2 = Image.new( mode = \"RGB\", size = (564, 701) )\n",
    "for y in range (701):\n",
    "    for x in range(564):\n",
    "        if x>=193 and x<= 388:\n",
    "            scale_value=galaxy.getpixel((x,y))\n",
    "            color_img2.putpixel((x,y), scale_value)\n",
    "        else:\n",
    "            scale_value=black_galaxy.getpixel((x,y))\n",
    "            color_img2.putpixel((x,y), scale_value)\n",
    "        \n",
    "color_img2.show()"
   ]
  },
  {
   "cell_type": "code",
   "execution_count": 17,
   "id": "e5471b66-80f7-42c2-b76f-79dc5a0c3d12",
   "metadata": {},
   "outputs": [],
   "source": [
    "sun = Image.open(\"sun.jpeg\") \n",
    "\n",
    "# Create an ImageEnhance object\n",
    "enhancer = ImageEnhance.Brightness(sun)\n",
    "\n",
    "# Darken the image using the factor (0.0 means completely black)\n",
    "darkened_img = enhancer.enhance(0.3)\n",
    "# Save the darkened image\n",
    "darkened_img.save('dark_sun.jpeg')\n"
   ]
  },
  {
   "cell_type": "code",
   "execution_count": 18,
   "id": "24e3a4f5-7518-4e3e-8286-d36af66cca8c",
   "metadata": {},
   "outputs": [],
   "source": [
    "d_s=Image.open('dark_sun.jpeg')\n",
    "color_img3 = Image.new( mode = \"RGB\", size = (736, 1228) )\n",
    "\n",
    "for y in range (1228):\n",
    "    for x in range(736):\n",
    "            scale_value=d_s.getpixel((735-x,y))\n",
    "            color_img3.putpixel((x,y), scale_value)\n",
    "            \n",
    "color_img3.show()\n",
    "color_img3.save('dark_sun.jpeg')"
   ]
  },
  {
   "cell_type": "code",
   "execution_count": null,
   "id": "10f1aebf-7f96-4831-83a9-6ea9e03aae6e",
   "metadata": {},
   "outputs": [],
   "source": []
  }
 ],
 "metadata": {
  "kernelspec": {
   "display_name": "Python 3 (ipykernel)",
   "language": "python",
   "name": "python3"
  },
  "language_info": {
   "codemirror_mode": {
    "name": "ipython",
    "version": 3
   },
   "file_extension": ".py",
   "mimetype": "text/x-python",
   "name": "python",
   "nbconvert_exporter": "python",
   "pygments_lexer": "ipython3",
   "version": "3.10.9"
  }
 },
 "nbformat": 4,
 "nbformat_minor": 5
}
